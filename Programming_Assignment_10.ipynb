{
 "cells": [
  {
   "cell_type": "markdown",
   "metadata": {},
   "source": [
    "# 1.\tWrite a Python program to find sum of elements in list?"
   ]
  },
  {
   "cell_type": "code",
   "execution_count": 2,
   "metadata": {},
   "outputs": [
    {
     "name": "stdout",
     "output_type": "stream",
     "text": [
      "Sum of list is  100\n"
     ]
    }
   ],
   "source": [
    "list1 = [10,20,30,40]\n",
    "sum = 0\n",
    "for i in list1:\n",
    "    sum = sum + i\n",
    "\n",
    "print(\"Sum of list is \", sum)"
   ]
  },
  {
   "cell_type": "markdown",
   "metadata": {},
   "source": [
    "# 2.\tWrite a Python program to  Multiply all numbers in the list?"
   ]
  },
  {
   "cell_type": "code",
   "execution_count": 3,
   "metadata": {},
   "outputs": [
    {
     "name": "stdout",
     "output_type": "stream",
     "text": [
      "Multiplication of list is  120\n"
     ]
    }
   ],
   "source": [
    "list2 = [1,2,3,4,5]\n",
    "\n",
    "mult = 1\n",
    "\n",
    "for i in list2:\n",
    "    mult = mult * i\n",
    "    \n",
    "print(\"Multiplication of list is \", mult)"
   ]
  },
  {
   "cell_type": "markdown",
   "metadata": {},
   "source": [
    "# 3.\tWrite a Python program to find smallest number in a list?"
   ]
  },
  {
   "cell_type": "code",
   "execution_count": 8,
   "metadata": {},
   "outputs": [
    {
     "name": "stdout",
     "output_type": "stream",
     "text": [
      " The smallest element in list is  1\n"
     ]
    }
   ],
   "source": [
    "list3 = [1,2,3,4,5,6]\n",
    "\n",
    "print(\" The smallest element in list is \",min(list3))"
   ]
  },
  {
   "cell_type": "markdown",
   "metadata": {},
   "source": [
    "# 4.\tWrite a Python program to find largest number in a list?"
   ]
  },
  {
   "cell_type": "code",
   "execution_count": 9,
   "metadata": {},
   "outputs": [
    {
     "name": "stdout",
     "output_type": "stream",
     "text": [
      "The largest element in list is  70\n"
     ]
    }
   ],
   "source": [
    "list4 = [10,20,30,50,70]\n",
    "\n",
    "print(\"The largest element in list is \", max(list4))"
   ]
  },
  {
   "cell_type": "markdown",
   "metadata": {},
   "source": [
    "# 5.\tWrite a Python program to find second largest number in a list?"
   ]
  },
  {
   "cell_type": "code",
   "execution_count": 12,
   "metadata": {},
   "outputs": [],
   "source": [
    "list5 = [10,12,13,23,14,19]"
   ]
  },
  {
   "cell_type": "code",
   "execution_count": 23,
   "metadata": {},
   "outputs": [
    {
     "name": "stdout",
     "output_type": "stream",
     "text": [
      "10\n",
      "12\n",
      "13\n",
      "14\n",
      "19\n",
      "23\n",
      "Second largest Element is  19\n"
     ]
    }
   ],
   "source": [
    "list5.sort()\n",
    "for i in list5:\n",
    "    print(i)\n",
    "print(\"Second largest Element is \",list5[-2])"
   ]
  },
  {
   "cell_type": "markdown",
   "metadata": {},
   "source": [
    "# 6.\tWrite a Python program to find N largest elements from a list?"
   ]
  },
  {
   "cell_type": "code",
   "execution_count": 29,
   "metadata": {},
   "outputs": [
    {
     "name": "stdout",
     "output_type": "stream",
     "text": [
      "Enter how many number you want to print largest 4\n",
      "[17, 18, 19, 20]\n"
     ]
    }
   ],
   "source": [
    "list6 = [12,13,14,15,16,17,18,19,20]\n",
    "list6.sort()\n",
    "num = int(input(\"Enter how many number you want to print largest \"))\n",
    "\n",
    "print(list6[-num:])\n",
    "    "
   ]
  },
  {
   "cell_type": "markdown",
   "metadata": {},
   "source": [
    "# 7.\tWrite a Python program to print even numbers in a list?"
   ]
  },
  {
   "cell_type": "code",
   "execution_count": 33,
   "metadata": {},
   "outputs": [
    {
     "name": "stdout",
     "output_type": "stream",
     "text": [
      "even number  2\n",
      "even number  4\n",
      "even number  6\n",
      "even number  8\n"
     ]
    }
   ],
   "source": [
    "list7 = [1,2,3,4,5,6,7,8]\n",
    "for i in list7:\n",
    "    if i%2 == 0:\n",
    "        print(\"even number \",i)"
   ]
  },
  {
   "cell_type": "markdown",
   "metadata": {},
   "source": [
    "# 8.\tWrite a Python program to print odd numbers in a List?"
   ]
  },
  {
   "cell_type": "code",
   "execution_count": 34,
   "metadata": {},
   "outputs": [
    {
     "name": "stdout",
     "output_type": "stream",
     "text": [
      "odd number is  13\n",
      "odd number is  15\n",
      "odd number is  17\n"
     ]
    }
   ],
   "source": [
    "list8 = [12,13,14,15,16,17]\n",
    "for i in list8:\n",
    "    if i%2 == 1:\n",
    "        print(\"odd number is \",i)"
   ]
  },
  {
   "cell_type": "markdown",
   "metadata": {},
   "source": [
    "# 9.\tWrite a Python program to Remove empty List from List?"
   ]
  },
  {
   "cell_type": "code",
   "execution_count": 42,
   "metadata": {},
   "outputs": [
    {
     "name": "stdout",
     "output_type": "stream",
     "text": [
      "Original list [1, 2, 34, [], 6, 8]\n",
      "After removing empty list  [1, 2, 34, 6, 8]\n"
     ]
    }
   ],
   "source": [
    "list9 = [1,2,34,[],6,8]\n",
    "print(\"Original list\",list9)\n",
    "li = []\n",
    "for i in list9:\n",
    "    if i != []:\n",
    "        li.append(i)\n",
    "print(\"After removing empty list \", li)"
   ]
  },
  {
   "cell_type": "markdown",
   "metadata": {},
   "source": [
    "# 10.\tWrite a Python program to Cloning or Copying a list?"
   ]
  },
  {
   "cell_type": "code",
   "execution_count": 46,
   "metadata": {},
   "outputs": [
    {
     "name": "stdout",
     "output_type": "stream",
     "text": [
      "[21, 22, 23, 24, 25, 26]\n"
     ]
    }
   ],
   "source": [
    "list10 = [21,22,23,24,25,26]\n",
    "\n",
    "new_list = list10.copy()\n",
    "\n",
    "# list11 = copy(list10)\n",
    "print(new_list)"
   ]
  },
  {
   "cell_type": "markdown",
   "metadata": {},
   "source": [
    "# 11.\tWrite a Python program to Count occurrences of an element in a list?"
   ]
  },
  {
   "cell_type": "code",
   "execution_count": 47,
   "metadata": {},
   "outputs": [
    {
     "name": "stdout",
     "output_type": "stream",
     "text": [
      "count of 1 is 1\n",
      "count of 4 is 3\n",
      "count of 5 is 2\n",
      "count of 7 is 2\n",
      "count of 8 is 2\n",
      "count of 3 is 2\n",
      "count of 4 is 3\n",
      "count of 6 is 2\n",
      "count of 7 is 2\n",
      "count of 8 is 2\n",
      "count of 3 is 2\n",
      "count of 4 is 3\n",
      "count of 5 is 2\n",
      "count of 6 is 2\n"
     ]
    }
   ],
   "source": [
    "list11 = [1,4,5,7,8,3,4,6,7,8,3,4,5,6]\n",
    "\n",
    "for i in list11:\n",
    "    count = 0\n",
    "    for j in list11:\n",
    "        \n",
    "        if i == j:\n",
    "            count+=1\n",
    "    print(\"count of {} is {}\".format(i, count))"
   ]
  },
  {
   "cell_type": "code",
   "execution_count": null,
   "metadata": {},
   "outputs": [],
   "source": []
  }
 ],
 "metadata": {
  "kernelspec": {
   "display_name": "Python 3",
   "language": "python",
   "name": "python3"
  },
  "language_info": {
   "codemirror_mode": {
    "name": "ipython",
    "version": 3
   },
   "file_extension": ".py",
   "mimetype": "text/x-python",
   "name": "python",
   "nbconvert_exporter": "python",
   "pygments_lexer": "ipython3",
   "version": "3.7.4"
  }
 },
 "nbformat": 4,
 "nbformat_minor": 2
}
