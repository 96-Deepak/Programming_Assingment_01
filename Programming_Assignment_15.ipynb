{
 "cells": [
  {
   "cell_type": "markdown",
   "metadata": {},
   "source": [
    "# Question 1:\n",
    "Please write a program using generator to print the numbers which can be divisible by 5 and 7 between 0 and n in comma separated form while n is input by console.\n",
    "Example:\n",
    "If the following n is given as input to the program:\n",
    "100\n",
    "Then, the output of the program should be:\n",
    "0,35,70\n"
   ]
  },
  {
   "cell_type": "code",
   "execution_count": 8,
   "metadata": {},
   "outputs": [
    {
     "name": "stdout",
     "output_type": "stream",
     "text": [
      "0,5,7,10,14,15,20,21,25,28,30,35,40,42,45,49,50,55,56,60,63,65,70,75,77,80,84,85,90,91,95,98,100,"
     ]
    }
   ],
   "source": [
    "def numgen(n):\n",
    "    for j in range(0,n+1):\n",
    "        if j%5==0 or j%7==0:\n",
    "            yield j\n",
    "if __name__ == \"__main__\":\n",
    "    n = 100\n",
    "    \n",
    "    for j in numgen(n):\n",
    "        print(j, end=\",\")"
   ]
  },
  {
   "cell_type": "markdown",
   "metadata": {},
   "source": [
    "# Question 2:\n",
    "Please write a program using generator to print the even numbers between 0 and n in comma separated form while n is input by console.\n",
    "Example:\n",
    "If the following n is given as input to the program:\n",
    "10\n",
    "Then, the output of the program should be:\n",
    "0,2,4,6,8,10\n"
   ]
  },
  {
   "cell_type": "code",
   "execution_count": 6,
   "metadata": {},
   "outputs": [
    {
     "name": "stdout",
     "output_type": "stream",
     "text": [
      "0,2,4,6,8,10,"
     ]
    }
   ],
   "source": [
    "def even_num(n):\n",
    "    for i in range(0, n+1):\n",
    "        if i%2==0:\n",
    "            yield i\n",
    "            \n",
    "if __name__ == \"__main__\":\n",
    "    n = 10\n",
    "    for j in even_num(n):\n",
    "        print(j, end=\",\")"
   ]
  },
  {
   "cell_type": "markdown",
   "metadata": {},
   "source": [
    "# Question 3:\n",
    "The Fibonacci Sequence is computed based on the following formula:\n",
    "f(n)=0 if n=0\n",
    "f(n)=1 if n=1\n",
    "f(n)=f(n-1)+f(n-2) if n>1\n",
    "Please write a program using list comprehension to print the Fibonacci Sequence in comma separated form with a given n input by console.\n",
    "Example:\n",
    "If the following n is given as input to the program:\n",
    "7\n",
    "\n",
    "Then, the output of the program should be:\n",
    "0,1,1,2,3,5,8,13\n",
    "\n"
   ]
  },
  {
   "cell_type": "code",
   "execution_count": 15,
   "metadata": {},
   "outputs": [
    {
     "name": "stdout",
     "output_type": "stream",
     "text": [
      "enter how many terms you want 7\n",
      "Fibonacce sequence \n",
      "0,1,1,2,3,5,8,13,"
     ]
    }
   ],
   "source": [
    "n = int(input(\"enter how many terms you want \"))\n",
    "\n",
    "n1, n2 = 0, 1\n",
    "count=0\n",
    "\n",
    "if n<= 0:\n",
    "    print(\"please enter correct number \")\n",
    "elif n == 1:\n",
    "    print(\"Fibonacce serier upto {}\".format(n))\n",
    "    print(n1)\n",
    "else:\n",
    "    print(\"Fibonacce sequence \")\n",
    "    while count<(n+1):\n",
    "        print(n1, end=\",\")\n",
    "        nth = n1+n2\n",
    "        n1=n2\n",
    "        n2=nth\n",
    "        count +=1"
   ]
  },
  {
   "cell_type": "markdown",
   "metadata": {},
   "source": [
    "# Question 4:\n",
    "Assuming that we have some email addresses in the \"username@companyname.com\" format, please write program to print the user name of a given email address. Both user names and company names are composed of letters only.\n",
    "Example:\n",
    "If the following email address is given as input to the program:\n",
    "john@google.com\n",
    "Then, the output of the program should be:\n",
    "john\n"
   ]
  },
  {
   "cell_type": "code",
   "execution_count": 21,
   "metadata": {},
   "outputs": [
    {
     "name": "stdout",
     "output_type": "stream",
     "text": [
      "enter mail ID john@google.com \n",
      "john\n"
     ]
    }
   ],
   "source": [
    "email = input(\"enter mail ID \")\n",
    "\n",
    "li = []\n",
    "\n",
    "for i in email.split(\"@\"):\n",
    "    li.append(i)\n",
    "    name = li[0]\n",
    "print(name)"
   ]
  },
  {
   "cell_type": "markdown",
   "metadata": {},
   "source": [
    "# Question 5:\n",
    "Define a class named Shape and its subclass Square. The Square class has an init function which takes a length as argument. Both classes have a area function which can print the area of the shape where Shape's area is 0 by default.\n"
   ]
  },
  {
   "cell_type": "code",
   "execution_count": 37,
   "metadata": {},
   "outputs": [
    {
     "name": "stdout",
     "output_type": "stream",
     "text": [
      "area of shape is  0\n",
      "area of Square  0\n"
     ]
    }
   ],
   "source": [
    "class Shape:\n",
    "    def __init__(self, lenght):\n",
    "        self.lenght = lenght\n",
    "        \n",
    "    def area(self):\n",
    "        print(\"area of shape is \",(self.lenght*self.lenght))\n",
    "    \n",
    "    class Square:\n",
    "        def __init__(self, lenght):\n",
    "            self.lenght = lenght\n",
    "        \n",
    "        def area(self):\n",
    "            print(\"area of Square \",(self.lenght*self.lenght))\n",
    "s = Shape(0)\n",
    "s.area()\n",
    "\n",
    "s1 = Shape.Square(0)\n",
    "s1.area()"
   ]
  },
  {
   "cell_type": "code",
   "execution_count": null,
   "metadata": {},
   "outputs": [],
   "source": []
  }
 ],
 "metadata": {
  "kernelspec": {
   "display_name": "Python 3",
   "language": "python",
   "name": "python3"
  },
  "language_info": {
   "codemirror_mode": {
    "name": "ipython",
    "version": 3
   },
   "file_extension": ".py",
   "mimetype": "text/x-python",
   "name": "python",
   "nbconvert_exporter": "python",
   "pygments_lexer": "ipython3",
   "version": "3.7.4"
  }
 },
 "nbformat": 4,
 "nbformat_minor": 2
}
