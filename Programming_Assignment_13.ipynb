{
 "cells": [
  {
   "cell_type": "raw",
   "metadata": {},
   "source": [
    "\n",
    "1 . Write a program that calculates and prints the value according to the given formula:\n",
    "\n",
    "Q = Square root of [(2 * C * D)/H]\n",
    "\n",
    "Following are the fixed values of C and H:\n",
    "\n",
    "C is 50. H is 30.\n",
    "\n",
    "D is the variable whose values should be input to your program in a comma-separated sequence.\n",
    "\n",
    "Example\n",
    "\n",
    "Let us assume the following comma separated input sequence is given to the program:\n",
    "\n",
    "100,150,180\n",
    "\n",
    "The output of the program should be:\n",
    "\n",
    "18,22,24\n"
   ]
  },
  {
   "cell_type": "code",
   "execution_count": 12,
   "metadata": {},
   "outputs": [
    {
     "name": "stdout",
     "output_type": "stream",
     "text": [
      "enter comma seprated values 100,150,180\n",
      "18,22,24\n"
     ]
    }
   ],
   "source": [
    "import math\n",
    "def sqt(num):\n",
    "    C = 50\n",
    "    H = 30\n",
    "    li = []\n",
    "    for i in num.split(','):\n",
    "        D = int(i)        \n",
    "        q = math.sqrt((2*C*D)/H)\n",
    "        li.append(round(q))\n",
    "    con_list = [str(ele) for ele in li]\n",
    "    join_str = \",\".join(con_list)\n",
    "    print(join_str)\n",
    "\n",
    "num = input(\"enter comma seprated values \")\n",
    "sqt(num)"
   ]
  },
  {
   "cell_type": "markdown",
   "metadata": {},
   "source": [
    "# Question 2:"
   ]
  },
  {
   "cell_type": "raw",
   "metadata": {},
   "source": [
    "\n",
    "Write a program which takes 2 digits, X,Y as input and generates a 2-dimensional array. The element value in the i-th row and j-th column of the array should be i*j.\n",
    "\n",
    "Note: i=0,1.., X-1; j=0,1,¡¬Y-1.\n",
    "\n",
    "Example\n",
    "\n",
    "Suppose the following inputs are given to the program:\n",
    "\n",
    "3,5\n",
    "\n",
    "Then, the output of the program should be:\n",
    "\n",
    "[[0, 0, 0, 0, 0], [0, 1, 2, 3, 4], [0, 2, 4, 6, 8]] \n"
   ]
  },
  {
   "cell_type": "code",
   "execution_count": 18,
   "metadata": {},
   "outputs": [
    {
     "name": "stdout",
     "output_type": "stream",
     "text": [
      "enter value for x 3\n",
      "enter value for y 5\n",
      "[[0, 0, 0, 0, 0], [0, 1, 2, 3, 4], [0, 2, 4, 6, 8]]\n"
     ]
    }
   ],
   "source": [
    "table = []\n",
    "\n",
    "def twod_arr(X,Y):\n",
    "    for i in range(X):\n",
    "        row = []\n",
    "        for j in range(Y):\n",
    "            row.append(i*j)\n",
    "        table.append(row)\n",
    "    print(table)\n",
    "    \n",
    "x = int(input(\"enter value for x \"))\n",
    "y = int(input(\"enter value for y \"))\n",
    "twod_arr(x,y)"
   ]
  },
  {
   "cell_type": "markdown",
   "metadata": {},
   "source": [
    "# Question 3:"
   ]
  },
  {
   "cell_type": "raw",
   "metadata": {},
   "source": [
    "Question 3:\n",
    "Write a program that accepts a comma separated sequence of words as input and prints the words in a comma-separated sequence after sorting them alphabetically.\n",
    "\n",
    "Suppose the following input is supplied to the program:\n",
    "\n",
    "without,hello,bag,world\n",
    "\n",
    "Then, the output should be:\n",
    "\n",
    "bag,hello,without,world\n"
   ]
  },
  {
   "cell_type": "code",
   "execution_count": 34,
   "metadata": {},
   "outputs": [
    {
     "name": "stdout",
     "output_type": "stream",
     "text": [
      "bag,hello,without,world,"
     ]
    }
   ],
   "source": [
    "def word_seq(str):\n",
    "    new_str = str.split(\",\")\n",
    "    new_str.sort()\n",
    "    str1 = \"\"\n",
    "    \n",
    "    for i in new_str:\n",
    "#         str1+=i\n",
    "#     print(str1)\n",
    "        str2 = \"\"\n",
    "        str2 = str1+i\n",
    "        print(str2, end=\",\")\n",
    "\n",
    "    \n",
    "\n",
    "if __name__ == \"__main__\":\n",
    "#     str = input(\"Enter the comma seprated string here\")       #this is user given string \n",
    "    str = \"without,hello,bag,world\"\n",
    "    word_seq(str)"
   ]
  },
  {
   "cell_type": "markdown",
   "metadata": {},
   "source": [
    "# Question 4:"
   ]
  },
  {
   "cell_type": "raw",
   "metadata": {},
   "source": [
    "\n",
    "Write a program that accepts a sequence of whitespace separated words as input and prints the words after removing all duplicate words and sorting them alphanumerically.\n",
    "\n",
    "Suppose the following input is supplied to the program:\n",
    "\n",
    "hello world and practice makes perfect and hello world again\n",
    "\n",
    "Then, the output should be:\n",
    "\n",
    "again and hello makes perfect practice world\n"
   ]
  },
  {
   "cell_type": "code",
   "execution_count": 27,
   "metadata": {},
   "outputs": [
    {
     "name": "stdout",
     "output_type": "stream",
     "text": [
      "again and hello makes perfect practice world "
     ]
    }
   ],
   "source": [
    "from collections import Counter\n",
    "\n",
    "def remove_word(input):\n",
    "    input = input.split(\" \")\n",
    "    \n",
    "    for i in range(0, len(input)):\n",
    "        input[i]=\"\".join(input[i])\n",
    "    un_word = Counter(input)\n",
    "    s = \" \".join(un_word.keys())\n",
    "    \n",
    "    new_str = s.split(\" \")\n",
    "    new_str.sort()\n",
    "    str1 = \"\"\n",
    "    for i in new_str:\n",
    "        str2 = \" \"\n",
    "        str2 = str1+i\n",
    "        print(str2, end=\" \")\n",
    "        \n",
    "    \n",
    "            \n",
    "#     print(str1)\n",
    "    \n",
    "if __name__ == \"__main__\":\n",
    "#     input = input(\"Enter tring \")          #this is the user givem string here\n",
    "    input = \"hello world and practice makes perfect and hello world again\"\n",
    "    remove_word(input)\n",
    "    \n"
   ]
  },
  {
   "cell_type": "markdown",
   "metadata": {},
   "source": [
    "# Question 5:"
   ]
  },
  {
   "cell_type": "raw",
   "metadata": {},
   "source": [
    "\n",
    "Write a program that accepts a sentence and calculate the number of letters and digits.\n",
    "\n",
    "Suppose the following input is supplied to the program:\n",
    "\n",
    "hello world! 123\n",
    "\n",
    "Then, the output should be:\n",
    "\n",
    "LETTERS 10\n",
    "\n",
    "DIGITS 3\n"
   ]
  },
  {
   "cell_type": "code",
   "execution_count": 36,
   "metadata": {},
   "outputs": [
    {
     "name": "stdout",
     "output_type": "stream",
     "text": [
      "Digit is 3\n",
      "Letter is 10\n"
     ]
    }
   ],
   "source": [
    "def letter_digit(str):\n",
    "    digit = 0\n",
    "    letter = 0 \n",
    "    for i in str:\n",
    "        if i.isdigit():\n",
    "            digit = digit+1\n",
    "        if i.isalpha():\n",
    "            letter = letter+1\n",
    "    print(\"Digit is {}\".format(digit))\n",
    "    print(\"Letter is {}\".format(letter))\n",
    "    \n",
    "\n",
    "if __name__ == \"__main__\":\n",
    "#     str = input(\"enter the string \")          #this is for user given input\n",
    "    str = \"hello world! 123\"\n",
    "    letter_digit(str)"
   ]
  },
  {
   "cell_type": "markdown",
   "metadata": {},
   "source": [
    "# Question 6:"
   ]
  },
  {
   "cell_type": "raw",
   "metadata": {},
   "source": [
    "\n",
    "A website requires the users to input username and password to register. Write a program to check the validity of password input by users.\n",
    "\n",
    "Following are the criteria for checking the password:\n",
    "\n",
    "1. At least 1 letter between [a-z]\n",
    "\n",
    "2. At least 1 number between [0-9]\n",
    "\n",
    "1. At least 1 letter between [A-Z]\n",
    "\n",
    "3. At least 1 character from [$#@]\n",
    "\n",
    "4. Minimum length of transaction password: 6\n",
    "\n",
    "5. Maximum length of transaction password: 12\n",
    "\n",
    "Your program should accept a sequence of comma separated passwords and will check them according to the above criteria. Passwords that match the criteria are to be printed, each separated by a comma.\n",
    "\n",
    "Example\n",
    "\n",
    "If the following passwords are given as input to the program:\n",
    "\n",
    "ABd1234@1,a F1#,2w3E*,2We3345\n",
    "\n",
    "Then, the output of the program should be:\n",
    "\n",
    "ABd1234@1\n"
   ]
  },
  {
   "cell_type": "code",
   "execution_count": 64,
   "metadata": {},
   "outputs": [
    {
     "name": "stdout",
     "output_type": "stream",
     "text": [
      "Password is valid---->   ABd1234@1\n"
     ]
    }
   ],
   "source": [
    "import re \n",
    "\n",
    "# password = input(\"Enter the password with comma seprated \")        #this is for user given input\n",
    "password = \"ABd1234@1,a F1#,2w3E*,2We3345\"\n",
    "\n",
    "new_password = password.split(\",\")\n",
    "for password in new_password:\n",
    "    while True:\n",
    "        if(len(password)<6 or len(password)>12):\n",
    "            break\n",
    "        \n",
    "        elif not re.search(\"[a-z]\", password):\n",
    "            flag = -1\n",
    "            break\n",
    "        elif not re.search(\"[0-9]\", password):\n",
    "            flag = -1\n",
    "            break\n",
    "        elif not re.search(\"[A-Z]\", password):\n",
    "            flag = -1\n",
    "            break\n",
    "        elif not re.search(\"[$#@]\", password):\n",
    "            flag = -1\n",
    "            break\n",
    "        else:\n",
    "            flag = 0\n",
    "            print(\"Password is valid---->  \", password)\n",
    "            break\n",
    "        \n",
    "        \n",
    "\n"
   ]
  },
  {
   "cell_type": "code",
   "execution_count": null,
   "metadata": {},
   "outputs": [],
   "source": []
  }
 ],
 "metadata": {
  "kernelspec": {
   "display_name": "Python 3",
   "language": "python",
   "name": "python3"
  },
  "language_info": {
   "codemirror_mode": {
    "name": "ipython",
    "version": 3
   },
   "file_extension": ".py",
   "mimetype": "text/x-python",
   "name": "python",
   "nbconvert_exporter": "python",
   "pygments_lexer": "ipython3",
   "version": "3.7.4"
  }
 },
 "nbformat": 4,
 "nbformat_minor": 2
}
