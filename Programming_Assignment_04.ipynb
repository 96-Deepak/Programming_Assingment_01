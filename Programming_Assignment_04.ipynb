{
 "cells": [
  {
   "cell_type": "markdown",
   "metadata": {},
   "source": [
    "# 1.\tWrite a Python Program to Find the Factorial of a Number?"
   ]
  },
  {
   "cell_type": "code",
   "execution_count": 3,
   "metadata": {},
   "outputs": [
    {
     "name": "stdout",
     "output_type": "stream",
     "text": [
      "Enter number 7\n",
      "Factorial of 7 is 5040\n"
     ]
    }
   ],
   "source": [
    "num = int(input(\"Enter number \"))\n",
    "\n",
    "fact =1\n",
    "\n",
    "if num < 0:\n",
    "    print(\"number is zero\")\n",
    "elif num == 0:\n",
    "    print(\"factorial of 0 is 1\")\n",
    "else:\n",
    "    for i in range(1, num+1):\n",
    "        fact = fact * i\n",
    "print(\"Factorial of {} is {}\". format(num, fact))"
   ]
  },
  {
   "cell_type": "markdown",
   "metadata": {},
   "source": [
    "# 2.\tWrite a Python Program to Display the multiplication Table?"
   ]
  },
  {
   "cell_type": "code",
   "execution_count": 5,
   "metadata": {},
   "outputs": [
    {
     "name": "stdout",
     "output_type": "stream",
     "text": [
      "2\n",
      "4\n",
      "6\n",
      "8\n",
      "10\n",
      "12\n",
      "14\n",
      "16\n",
      "18\n",
      "20\n"
     ]
    }
   ],
   "source": [
    "num = 2\n",
    "\n",
    "for i in range (1, 11):\n",
    "    multi = i * num\n",
    "    print(multi)\n",
    "    "
   ]
  },
  {
   "cell_type": "markdown",
   "metadata": {},
   "source": [
    "# 3.\tWrite a Python Program to Print the Fibonacci sequence?"
   ]
  },
  {
   "cell_type": "code",
   "execution_count": 8,
   "metadata": {},
   "outputs": [
    {
     "name": "stdout",
     "output_type": "stream",
     "text": [
      "Enter how many you want 10\n",
      "0\n",
      "1\n",
      "1\n",
      "2\n",
      "3\n",
      "5\n",
      "8\n",
      "13\n",
      "21\n",
      "34\n"
     ]
    }
   ],
   "source": [
    "x = int(input(\"Enter how many you want \"))\n",
    "\n",
    "n1 , n2 = 0, 1\n",
    "count = 0\n",
    "\n",
    "if x <= 0:\n",
    "    print(\"Enter the positive number...\")\n",
    "elif x == 1:\n",
    "    print(\"fibonacci sequence of {} is {}\".format(x, n1))\n",
    "else:\n",
    "    while count < x :\n",
    "        print(n1)\n",
    "        nth = n1 + n2\n",
    "        n1 = n2\n",
    "        n2 = nth\n",
    "        count +=1\n",
    "    \n",
    "    "
   ]
  },
  {
   "cell_type": "markdown",
   "metadata": {},
   "source": [
    "# 4.\tWrite a Python Program to Check Armstrong Number?"
   ]
  },
  {
   "cell_type": "code",
   "execution_count": 13,
   "metadata": {},
   "outputs": [
    {
     "name": "stdout",
     "output_type": "stream",
     "text": [
      "enter number 407\n",
      "407 Number is Armstrong \n"
     ]
    }
   ],
   "source": [
    "num = int(input(\"enter number \"))\n",
    "\n",
    "sum = 0\n",
    "\n",
    "temp = num\n",
    "\n",
    "while temp > 0:\n",
    "    digit = temp % 10\n",
    "    sum += digit**3\n",
    "    temp //=10\n",
    "    \n",
    "if num == sum:\n",
    "    print(num, \"Number is Armstrong \")\n",
    "else:\n",
    "    print(num, \"Number is not Armstrong \")"
   ]
  },
  {
   "cell_type": "markdown",
   "metadata": {},
   "source": [
    "# 5.\tWrite a Python Program to Find Armstrong Number in an Interval?"
   ]
  },
  {
   "cell_type": "code",
   "execution_count": 19,
   "metadata": {},
   "outputs": [
    {
     "name": "stdout",
     "output_type": "stream",
     "text": [
      "enter start point 50\n",
      "enter end point 500\n",
      "153 is armstrong \n",
      "370 is armstrong \n",
      "371 is armstrong \n",
      "407 is armstrong \n"
     ]
    }
   ],
   "source": [
    "    \n",
    "lower = int(input(\"enter start point \"))\n",
    "upper = int(input(\"enter end point \"))\n",
    "\n",
    "for i in range(lower, upper):\n",
    "    s = 0\n",
    "    t = i\n",
    "    while t>0:\n",
    "        d = t%10\n",
    "        s += d**3\n",
    "        t //=10\n",
    "    if i == s:\n",
    "        print(\"{} is armstrong \".format(i))\n",
    "        "
   ]
  },
  {
   "cell_type": "markdown",
   "metadata": {},
   "source": [
    "# 6.\tWrite a Python Program to Find the Sum of Natural Numbers?"
   ]
  },
  {
   "cell_type": "code",
   "execution_count": 29,
   "metadata": {},
   "outputs": [
    {
     "name": "stdout",
     "output_type": "stream",
     "text": [
      "Enter number 16\n",
      "Sum of natural number is 136\n"
     ]
    }
   ],
   "source": [
    "num = int(input(\"Enter number \"))\n",
    "s = 0\n",
    "for i in range(1, num+1):\n",
    "    s = s + i\n",
    "print(\"Sum of natural number is {}\".format(s))"
   ]
  },
  {
   "cell_type": "code",
   "execution_count": null,
   "metadata": {},
   "outputs": [],
   "source": []
  }
 ],
 "metadata": {
  "kernelspec": {
   "display_name": "Python 3",
   "language": "python",
   "name": "python3"
  },
  "language_info": {
   "codemirror_mode": {
    "name": "ipython",
    "version": 3
   },
   "file_extension": ".py",
   "mimetype": "text/x-python",
   "name": "python",
   "nbconvert_exporter": "python",
   "pygments_lexer": "ipython3",
   "version": "3.7.4"
  }
 },
 "nbformat": 4,
 "nbformat_minor": 2
}
