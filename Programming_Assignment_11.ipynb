{
 "cells": [
  {
   "cell_type": "markdown",
   "metadata": {},
   "source": [
    "# 1.\tWrite a Python program to find words which are greater than given length k?"
   ]
  },
  {
   "cell_type": "code",
   "execution_count": 4,
   "metadata": {},
   "outputs": [
    {
     "name": "stdout",
     "output_type": "stream",
     "text": [
      "['Hello', 'Deepak']\n"
     ]
    }
   ],
   "source": [
    "def string_k(k, str):\n",
    "    string = []\n",
    "    text = str.split(\" \")\n",
    "    \n",
    "    for i in text:\n",
    "        if len(i)>k:\n",
    "            string.append(i)\n",
    "    return string\n",
    "\n",
    "k = 3\n",
    "str = \"Hello how are you Deepak\"\n",
    "print(string_k(k, str))"
   ]
  },
  {
   "cell_type": "markdown",
   "metadata": {},
   "source": [
    "# 2.\tWrite a Python program for removing i-th character from a string?"
   ]
  },
  {
   "cell_type": "code",
   "execution_count": 21,
   "metadata": {},
   "outputs": [
    {
     "name": "stdout",
     "output_type": "stream",
     "text": [
      "please enter i-th character m\n",
      "coputer\n"
     ]
    }
   ],
   "source": [
    "str1 = \"computer\"\n",
    "\n",
    "t = len(str1)\n",
    "\n",
    "ith = input(\"please enter i-th character \")\n",
    "\n",
    "for i in str1:\n",
    "    if i == ith:\n",
    "        new_str = str1.replace(ith, \"\")\n",
    "print(new_str)\n"
   ]
  },
  {
   "cell_type": "markdown",
   "metadata": {},
   "source": [
    "# 3.\tWrite a Python program to split and join a string?"
   ]
  },
  {
   "cell_type": "code",
   "execution_count": 23,
   "metadata": {},
   "outputs": [
    {
     "name": "stdout",
     "output_type": "stream",
     "text": [
      "sting is splitting here\n",
      "['linear', 'regression', 'is', 'used', 'in', 'machine', 'learning']\n",
      "Joining two string \n",
      "My name is Robot\n"
     ]
    }
   ],
   "source": [
    "str2 = \"linear regression is used in machine learning\"\n",
    "\n",
    "print(\"sting is splitting here\")\n",
    "print(str2.split(\" \"))\n",
    "\n",
    "a = \"My name is \"\n",
    "b = \"Robot\"\n",
    "\n",
    "print(\"Joining two string \")\n",
    "print(a+b)\n"
   ]
  },
  {
   "cell_type": "markdown",
   "metadata": {},
   "source": [
    "# 4.\tWrite a Python to check if a given string is binary string or not?"
   ]
  },
  {
   "cell_type": "code",
   "execution_count": 29,
   "metadata": {},
   "outputs": [
    {
     "name": "stdout",
     "output_type": "stream",
     "text": [
      "Yes\n"
     ]
    }
   ],
   "source": [
    "def check_bin(str):\n",
    "    s = {'0','1'}\n",
    "    p = set(str)\n",
    "    if p==s:\n",
    "        print(\"Yes\")\n",
    "    else:\n",
    "        print(\"No\")\n",
    "\n",
    "s = \"0100010100100\"\n",
    "check_bin(s)"
   ]
  },
  {
   "cell_type": "markdown",
   "metadata": {},
   "source": [
    "# 5.\tWrite a Python program to find uncommon words from two Strings?"
   ]
  },
  {
   "cell_type": "code",
   "execution_count": 37,
   "metadata": {},
   "outputs": [
    {
     "data": {
      "text/plain": [
       "['new', 'is', 'here', 'old', 'not', 'good']"
      ]
     },
     "execution_count": 37,
     "metadata": {},
     "output_type": "execute_result"
    }
   ],
   "source": [
    "def uncommon(a,b):\n",
    "    list_a = a.split()\n",
    "    list_b = b.split()\n",
    "    un = []\n",
    "    for i in list_a:\n",
    "        if i not in list_b:\n",
    "            un.append(i)\n",
    "    \n",
    "    for j in list_b:\n",
    "        if j not in list_a:\n",
    "            un.append(j)\n",
    "    \n",
    "    return un\n",
    "\n",
    "a = \"the new book is here\"\n",
    "b = \"the old book not good\"\n",
    "\n",
    "uncommon(a, b)\n",
    "            "
   ]
  },
  {
   "cell_type": "markdown",
   "metadata": {},
   "source": [
    "# 6.\tWrite a Python to find all duplicate characters in string?"
   ]
  },
  {
   "cell_type": "code",
   "execution_count": 7,
   "metadata": {},
   "outputs": [
    {
     "name": "stdout",
     "output_type": "stream",
     "text": [
      "t o i\n"
     ]
    }
   ],
   "source": [
    "str1 = \"tutorialspoint\"\n",
    "\n",
    "duplicates = []\n",
    "\n",
    "for char in str1:\n",
    "    if str1.count(char)>1:\n",
    "        if char not in duplicates:\n",
    "            duplicates.append(char)\n",
    "print(*duplicates)"
   ]
  },
  {
   "cell_type": "markdown",
   "metadata": {},
   "source": [
    "# 7.\tWrite a Python Program to check if a string contains any special character?"
   ]
  },
  {
   "cell_type": "code",
   "execution_count": 11,
   "metadata": {},
   "outputs": [
    {
     "name": "stdout",
     "output_type": "stream",
     "text": [
      "Enter any string deepak@\n",
      "The string contain special character \n"
     ]
    }
   ],
   "source": [
    "import re\n",
    "\n",
    "str1 = input(\"Enter any string \")\n",
    "\n",
    "special_char = re.compile('[@_!#$%^&*()<>?/\\|}{~:]')\n",
    "\n",
    "if(special_char.search(str1) == None):\n",
    "    print(\"String does not conatin any special character \")\n",
    "else:\n",
    "    print(\"The string contain special character \")"
   ]
  },
  {
   "cell_type": "code",
   "execution_count": null,
   "metadata": {},
   "outputs": [],
   "source": []
  }
 ],
 "metadata": {
  "kernelspec": {
   "display_name": "Python 3",
   "language": "python",
   "name": "python3"
  },
  "language_info": {
   "codemirror_mode": {
    "name": "ipython",
    "version": 3
   },
   "file_extension": ".py",
   "mimetype": "text/x-python",
   "name": "python",
   "nbconvert_exporter": "python",
   "pygments_lexer": "ipython3",
   "version": "3.7.4"
  }
 },
 "nbformat": 4,
 "nbformat_minor": 2
}
