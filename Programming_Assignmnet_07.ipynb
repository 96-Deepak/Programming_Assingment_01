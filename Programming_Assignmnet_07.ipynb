{
 "cells": [
  {
   "cell_type": "markdown",
   "metadata": {},
   "source": [
    "# 1.\tWrite a Python Program to find sum of array?"
   ]
  },
  {
   "cell_type": "code",
   "execution_count": 3,
   "metadata": {},
   "outputs": [
    {
     "name": "stdout",
     "output_type": "stream",
     "text": [
      "Sume of array 21\n"
     ]
    }
   ],
   "source": [
    "a = [1,2,3,4,5,6]\n",
    "s = 0\n",
    "for i in a:\n",
    "    s = s + i\n",
    "print(\"Sume of array {}\".format(s))\n"
   ]
  },
  {
   "cell_type": "markdown",
   "metadata": {},
   "source": [
    "# 2.\tWrite a Python Program to find largest element in an array?"
   ]
  },
  {
   "cell_type": "code",
   "execution_count": 12,
   "metadata": {},
   "outputs": [
    {
     "name": "stdout",
     "output_type": "stream",
     "text": [
      "largest element is  243\n"
     ]
    }
   ],
   "source": [
    "def largest_ele(arr, n):\n",
    "    max = arr[0]\n",
    "    \n",
    "    for i in range(1,n):\n",
    "        if arr[i] > max:\n",
    "            max = arr[i]\n",
    "    return max\n",
    "arr = [1,4,5,8,243,65,232,56,76]\n",
    "n = len(arr)\n",
    "print(\"largest element is \",largest_ele(arr, n))\n",
    "\n",
    "# print(\"Maximum values \",max(arr))    using inbulid function "
   ]
  },
  {
   "cell_type": "markdown",
   "metadata": {},
   "source": [
    "# 3.\tWrite a Python Program for array rotation?"
   ]
  },
  {
   "cell_type": "code",
   "execution_count": 14,
   "metadata": {},
   "outputs": [
    {
     "name": "stdout",
     "output_type": "stream",
     "text": [
      "10\n",
      "20\n",
      "30\n",
      "40\n",
      "50\n",
      "60\n",
      "70\n"
     ]
    }
   ],
   "source": [
    "a = [10,20,30,40,50,60,70]\n",
    "\n",
    "for i in a:\n",
    "    print(i)"
   ]
  },
  {
   "cell_type": "markdown",
   "metadata": {},
   "source": [
    "# 4.\tWrite a Python Program to Split the array and add the first part to the end?"
   ]
  },
  {
   "cell_type": "code",
   "execution_count": 16,
   "metadata": {},
   "outputs": [
    {
     "name": "stdout",
     "output_type": "stream",
     "text": [
      "[42, 20, 40, 12, 23]\n"
     ]
    }
   ],
   "source": [
    "def split(arr, k):\n",
    "    arr = arr[k:] + arr[:k]\n",
    "    \n",
    "    return arr\n",
    "\n",
    "k = 2\n",
    "arr = [12,23,42,20,40]\n",
    "\n",
    "print(split(arr, k))"
   ]
  },
  {
   "cell_type": "markdown",
   "metadata": {},
   "source": [
    "# 5.\tWrite a Python Program to check if given array is Monotonic?"
   ]
  },
  {
   "cell_type": "code",
   "execution_count": 18,
   "metadata": {},
   "outputs": [
    {
     "name": "stdout",
     "output_type": "stream",
     "text": [
      "True\n"
     ]
    }
   ],
   "source": [
    "def isMonotonic(a):\n",
    "    return (all(a[i] <= a[i+1] for i in range(len(a) - 1)) or all(a[i] >= a[i+1] for i in range(len(a) - 1)))\n",
    "\n",
    "a = [1,2,3,4, 7, 8]\n",
    "\n",
    "print(isMonotonic(a))"
   ]
  },
  {
   "cell_type": "code",
   "execution_count": null,
   "metadata": {},
   "outputs": [],
   "source": []
  }
 ],
 "metadata": {
  "kernelspec": {
   "display_name": "Python 3",
   "language": "python",
   "name": "python3"
  },
  "language_info": {
   "codemirror_mode": {
    "name": "ipython",
    "version": 3
   },
   "file_extension": ".py",
   "mimetype": "text/x-python",
   "name": "python",
   "nbconvert_exporter": "python",
   "pygments_lexer": "ipython3",
   "version": "3.7.4"
  }
 },
 "nbformat": 4,
 "nbformat_minor": 2
}
