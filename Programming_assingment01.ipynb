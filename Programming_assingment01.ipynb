{
 "cells": [
  {
   "cell_type": "markdown",
   "metadata": {},
   "source": [
    "# 1) write a python program to print \"Hello Python\"?"
   ]
  },
  {
   "cell_type": "code",
   "execution_count": 1,
   "metadata": {},
   "outputs": [
    {
     "name": "stdout",
     "output_type": "stream",
     "text": [
      "Hello Python\n"
     ]
    }
   ],
   "source": [
    "print(\"Hello Python\")"
   ]
  },
  {
   "cell_type": "markdown",
   "metadata": {},
   "source": [
    "# 2.\tWrite a Python program to do arithmetical operations addition and division.?"
   ]
  },
  {
   "cell_type": "code",
   "execution_count": 4,
   "metadata": {},
   "outputs": [
    {
     "name": "stdout",
     "output_type": "stream",
     "text": [
      "Enter number for addition \n",
      "Enter num1 20\n",
      "Enter num2 30\n",
      "additon of num1 and num2 is  50\n",
      "Enter number for division \n",
      "Enter num1 60\n",
      "Enter num2 25\n",
      "division of num1 and num2 is  35\n"
     ]
    }
   ],
   "source": [
    "print(\"Enter number for addition \")\n",
    "num1 = int(input(\"Enter num1 \"))\n",
    "num2 = int(input(\"Enter num2 \"))\n",
    "\n",
    "#addition\n",
    "sum = (num1 + num2)\n",
    "print(\"additon of num1 and num2 is \", sum)\n",
    "\n",
    "#Divison\n",
    "print(\"Enter number for division \")\n",
    "num1 = int(input(\"Enter num1 \"))\n",
    "num2 = int(input(\"Enter num2 \"))\n",
    "div = num1 - num2\n",
    "print(\"division of num1 and num2 is \", div)"
   ]
  },
  {
   "cell_type": "markdown",
   "metadata": {},
   "source": [
    "# 3.\tWrite a Python program to find the area of a triangle?"
   ]
  },
  {
   "cell_type": "code",
   "execution_count": 7,
   "metadata": {},
   "outputs": [
    {
     "name": "stdout",
     "output_type": "stream",
     "text": [
      "first side of triangle 6\n",
      "second side of triangle 7\n",
      "third side of triangle 8\n",
      "area of traiangle is  20.33316256758894\n"
     ]
    }
   ],
   "source": [
    "a = float(input(\"first side of triangle \"))\n",
    "b = float(input(\"second side of triangle \"))\n",
    "c = float(input(\"third side of triangle \"))\n",
    "\n",
    "s = (a+b+c)/2\n",
    "area = (s*(s-a)*(s-b)*(s-c))**0.5\n",
    "\n",
    "print(\"area of traiangle is \",area)"
   ]
  },
  {
   "cell_type": "markdown",
   "metadata": {},
   "source": [
    "# 4.\tWrite a Python program to swap two variables?"
   ]
  },
  {
   "cell_type": "code",
   "execution_count": 8,
   "metadata": {},
   "outputs": [
    {
     "name": "stdout",
     "output_type": "stream",
     "text": [
      "Enter first number 20\n",
      "Enter second number 40\n",
      "before swap value of num1 =  20\n",
      "before swap value of num2 =  40\n",
      "after swap value of num1 =  40\n",
      "after swap value of num2 =  20\n"
     ]
    }
   ],
   "source": [
    "num1 = int(input(\"Enter first number \"))\n",
    "num2 = int(input(\"Enter second number \"))\n",
    "\n",
    "print(\"before swap value of num1 = \", num1)\n",
    "print(\"before swap value of num2 = \", num2)\n",
    "swap = num1\n",
    "num1 = num2\n",
    "num2 = swap\n",
    "\n",
    "print(\"after swap value of num1 = \", num1)\n",
    "print(\"after swap value of num2 = \", num2)"
   ]
  },
  {
   "cell_type": "markdown",
   "metadata": {},
   "source": [
    "# 5.\tWrite a Python program to generate a random number?"
   ]
  },
  {
   "cell_type": "code",
   "execution_count": 27,
   "metadata": {},
   "outputs": [],
   "source": [
    "import random"
   ]
  },
  {
   "cell_type": "code",
   "execution_count": 31,
   "metadata": {},
   "outputs": [
    {
     "name": "stdout",
     "output_type": "stream",
     "text": [
      "2\n"
     ]
    }
   ],
   "source": [
    "print(random.randint(0,9))"
   ]
  },
  {
   "cell_type": "code",
   "execution_count": null,
   "metadata": {},
   "outputs": [],
   "source": []
  }
 ],
 "metadata": {
  "kernelspec": {
   "display_name": "Python 3",
   "language": "python",
   "name": "python3"
  },
  "language_info": {
   "codemirror_mode": {
    "name": "ipython",
    "version": 3
   },
   "file_extension": ".py",
   "mimetype": "text/x-python",
   "name": "python",
   "nbconvert_exporter": "python",
   "pygments_lexer": "ipython3",
   "version": "3.7.4"
  }
 },
 "nbformat": 4,
 "nbformat_minor": 2
}
