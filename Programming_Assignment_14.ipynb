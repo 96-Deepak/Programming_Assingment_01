{
 "cells": [
  {
   "cell_type": "markdown",
   "metadata": {},
   "source": [
    "# Question 1:\n",
    "\n",
    "Define a class with a generator which can iterate the numbers, which are divisible by 7, between a given range 0 and n.\n"
   ]
  },
  {
   "cell_type": "code",
   "execution_count": 4,
   "metadata": {},
   "outputs": [
    {
     "name": "stdout",
     "output_type": "stream",
     "text": [
      "enter the number 15\n",
      "0\n",
      "7\n",
      "14\n"
     ]
    }
   ],
   "source": [
    "class generator:\n",
    "    def number_it(self,num):\n",
    "        for i in range(num):\n",
    "            if i%7 == 0:\n",
    "                print(i)\n",
    "\n",
    "obj = generator()\n",
    "num = int(input(\"enter the number \"))\n",
    "obj.number_it(num)"
   ]
  },
  {
   "cell_type": "markdown",
   "metadata": {},
   "source": [
    "# Question 2:\n",
    "Write a program to compute the frequency of the words from the input. The output should output after sorting the key alphanumerically. \n",
    "\n",
    "Suppose the following input is supplied to the program:\n",
    "\n",
    "New to Python or choosing between Python 2 and Python 3? Read Python 2 or Python 3.\n",
    "\n",
    "Then, the output should be:\n",
    "\n",
    "2:2\n",
    "\n",
    "3.:1\n",
    "\n",
    "3?:1\n",
    "\n",
    "New:1\n",
    "\n",
    "Python:5\n",
    "\n",
    "Read:1\n",
    "\n",
    "and:1\n",
    "\n",
    "between:1\n",
    "\n",
    "choosing:1\n",
    "\n",
    "or:2\n",
    "\n",
    "to:1\n"
   ]
  },
  {
   "cell_type": "code",
   "execution_count": 35,
   "metadata": {
    "scrolled": true
   },
   "outputs": [
    {
     "name": "stdout",
     "output_type": "stream",
     "text": [
      "2 : 2\n",
      "3 : 1\n",
      "3? : 1\n",
      "New : 1\n",
      "Python : 5\n",
      "Read : 1\n",
      "and : 1\n",
      "between : 1\n",
      "choosing : 1\n",
      "or : 2\n",
      "to : 1\n"
     ]
    }
   ],
   "source": [
    "# str = \"New to Python or choosing between Python 2 and Python 3? Read Python 2 or Python 3.\"\n",
    "# new_str = str.split(\" \")\n",
    "# new_str.sort()\n",
    "\n",
    "# str1 = new_str\n",
    "\n",
    "from collections import Counter\n",
    "import numpy as np\n",
    "def remove_word(input):\n",
    "    str1 = list(input.split())\n",
    "    input = input.split(\" \")\n",
    "    \n",
    "    for i in range(0, len(input)):\n",
    "        input[i]=\"\".join(input[i])\n",
    "    un_word = Counter(input)\n",
    "    s = \" \".join(un_word.keys())\n",
    "    \n",
    "    new_str = s.split(\" \")\n",
    "    new_str.sort()\n",
    "\n",
    "    for x in new_str:\n",
    "        count = 0\n",
    "        for j in str1:\n",
    "            if x == j:\n",
    "                count = count + 1\n",
    "        print(\"{} : {}\".format(x, count))\n",
    "\n",
    "\n",
    "\n",
    "if __name__ == \"__main__\":\n",
    "#     input = input(\"Enter tring \")          #this is the user givem string here\n",
    "    input = \"New to Python or choosing between Python 2 and Python 3? Read Python 2 or Python 3\"\n",
    "    remove_word(input)"
   ]
  },
  {
   "cell_type": "markdown",
   "metadata": {},
   "source": [
    "# Question 3:\n",
    "\n",
    "\n",
    "\n",
    "Define a class Person and its two child classes: Male and Female. All classes have a method \"getGender\" which can print \"Male\" for Male class and \"Female\" for Female class.\n"
   ]
  },
  {
   "cell_type": "code",
   "execution_count": 44,
   "metadata": {},
   "outputs": [
    {
     "name": "stdout",
     "output_type": "stream",
     "text": [
      "This is __init__() of Parent Class...!\n",
      "this is the Male Class method..!\n",
      "This is __init__() of Parent Class...!\n",
      "this is the Female Class method..!\n"
     ]
    }
   ],
   "source": [
    "class Person:\n",
    "    def __init__(self):\n",
    "        print(\"This is __init__() of Parent Class...!\")\n",
    "\n",
    "class Male(Person):\n",
    "    def getGender(self):\n",
    "        print(\"this is the Male Class method..!\")\n",
    "    \n",
    "class Female(Person):\n",
    "    def getGender(self):\n",
    "        print(\"this is the Female Class method..!\")\n",
    "        \n",
    "\n",
    "\n",
    "obj1 = Male()\n",
    "obj1.getGender()\n",
    "\n",
    "obj2 = Female()\n",
    "obj2.getGender()"
   ]
  },
  {
   "cell_type": "code",
   "execution_count": 37,
   "metadata": {},
   "outputs": [
    {
     "name": "stdout",
     "output_type": "stream",
     "text": [
      "Python interpreter is started...!\n",
      "This is the show method...!\n"
     ]
    }
   ],
   "source": [
    "class Student:\n",
    "    def __init__(self):\n",
    "        print(\"Python interpreter is started...!\")\n",
    "    \n",
    "    def show(self):\n",
    "        print(\"This is the show method...!\")\n",
    "        \n",
    "obj = Student()\n",
    "obj.show()"
   ]
  },
  {
   "cell_type": "markdown",
   "metadata": {},
   "source": [
    "# Question 4:\n",
    "Please write a program to generate all sentences where subject is in [\"I\", \"You\"] and verb is in [\"Play\", \"Love\"] and the object is in [\"Hockey\",\"Football\"].\n"
   ]
  },
  {
   "cell_type": "code",
   "execution_count": 19,
   "metadata": {},
   "outputs": [
    {
     "name": "stdout",
     "output_type": "stream",
     "text": [
      "You Love Football\n"
     ]
    }
   ],
   "source": [
    "import random\n",
    "\n",
    "def sentences():\n",
    "    subject = (\"I\", \"You\")\n",
    "    verb = (\"Play\", \"Love\")\n",
    "    obj = (\"Hockey\", \"Football\")\n",
    "    \n",
    "    num = random.randrange(0,2)\n",
    "    \n",
    "    print(subject[num] + \" \" + verb[num] + \" \" + obj[num])\n",
    "    \n",
    "if __name__ == \"__main__\":\n",
    "    sentences()"
   ]
  },
  {
   "cell_type": "markdown",
   "metadata": {},
   "source": [
    "# Question 5:\n",
    "Please write a program to compress and decompress the string \"hello world!hello world!hello world!hello world!\".\n"
   ]
  },
  {
   "cell_type": "code",
   "execution_count": 22,
   "metadata": {},
   "outputs": [
    {
     "name": "stdout",
     "output_type": "stream",
     "text": [
      "Original size of string is 81\n",
      "\n",
      "Compreesed string size is 56\n",
      "\n",
      "Decompreesed string size is 81\n"
     ]
    }
   ],
   "source": [
    "import sys \n",
    "import zlib\n",
    "\n",
    "text = b\"hello world!hello world!hello world!hello world!\"\n",
    "\n",
    "text_size = sys.getsizeof(text)\n",
    "\n",
    "print(\"Original size of string is {}\\n\".format(text_size))\n",
    "\n",
    "comp = zlib.compress(text)\n",
    "\n",
    "csize = sys.getsizeof(comp)\n",
    "print(\"Compreesed string size is {}\\n\".format(csize))\n",
    "\n",
    "decomp = zlib.decompress(comp)\n",
    "\n",
    "dszie = sys.getsizeof(decomp)\n",
    "\n",
    "print(\"Decompreesed string size is {}\".format(dszie))\n"
   ]
  },
  {
   "cell_type": "markdown",
   "metadata": {},
   "source": [
    "# Question 6:\n",
    "Please write a binary search function which searches an item in a sorted list. The function should return the index of element to be searched in the list.\n"
   ]
  },
  {
   "cell_type": "code",
   "execution_count": 31,
   "metadata": {},
   "outputs": [
    {
     "name": "stdout",
     "output_type": "stream",
     "text": [
      "Orinal List [12, 50, 45, 29, 30, 10]\n",
      "\n",
      "Sorted List [10, 12, 29, 30, 45, 50]\n",
      "\n",
      "element is present in index 4\n"
     ]
    }
   ],
   "source": [
    "def binary_search(list1, n):\n",
    "    low = 0\n",
    "    high = len(list1)-1\n",
    "    mid = 0\n",
    "    \n",
    "    while low <= high:\n",
    "        mid = (high+low) // 2\n",
    "        \n",
    "        if list1[mid] < n:\n",
    "            low = mid + 1\n",
    "            \n",
    "        elif list1[mid] > n:\n",
    "            high = mid - 1\n",
    "        \n",
    "        else:\n",
    "            return mid\n",
    "    return -1\n",
    "\n",
    "list1 = [12, 50, 45, 29, 30 ,10]\n",
    "print(\"Orinal List {}\\n\".format(list1))\n",
    "list1.sort()\n",
    "print(\"Sorted List {}\\n\".format(list1))\n",
    "n = 45\n",
    "\n",
    "result = binary_search(list1, n)\n",
    "\n",
    "if result != -1:\n",
    "    print(\"element is present in index {}\".format(result))\n",
    "else:\n",
    "    print(\"Not present element\")"
   ]
  },
  {
   "cell_type": "code",
   "execution_count": null,
   "metadata": {},
   "outputs": [],
   "source": []
  }
 ],
 "metadata": {
  "kernelspec": {
   "display_name": "Python 3",
   "language": "python",
   "name": "python3"
  },
  "language_info": {
   "codemirror_mode": {
    "name": "ipython",
    "version": 3
   },
   "file_extension": ".py",
   "mimetype": "text/x-python",
   "name": "python",
   "nbconvert_exporter": "python",
   "pygments_lexer": "ipython3",
   "version": "3.7.4"
  }
 },
 "nbformat": 4,
 "nbformat_minor": 2
}
