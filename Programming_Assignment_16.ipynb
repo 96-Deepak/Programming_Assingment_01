{
 "cells": [
  {
   "cell_type": "markdown",
   "metadata": {},
   "source": [
    "# Question1.\n",
    "Write a function that stutters a word as if someone is struggling to read it. The first two letters are repeated twice with an ellipsis ... and space after each, and then the word is pronounced with a question mark ?.\n",
    "Examples\n",
    "stutter(\"incredible\") ➞ \"in... in... incredible?\"\n",
    "\n",
    "stutter(\"enthusiastic\") ➞ \"en... en... enthusiastic?\"\n",
    "\n",
    "stutter(\"outstanding\") ➞ \"ou... ou... outstanding?\"\n",
    "\n",
    "Hint :- Assume all input is in lower case and at least two characters long.\n"
   ]
  },
  {
   "cell_type": "code",
   "execution_count": 31,
   "metadata": {},
   "outputs": [
    {
     "name": "stdout",
     "output_type": "stream",
     "text": [
      "Enter string incredible\n",
      "in... in... incredible?"
     ]
    }
   ],
   "source": [
    "def stutters(s1):\n",
    "    if len(s1)>=2:\n",
    "        for i in range(0,2):\n",
    "            print(str(s1[0:2]), end=\"... \")\n",
    "        print(s1,end=\"?\")\n",
    "    else:\n",
    "        print(\"Enter at least two character\")\n",
    "\n",
    "s = input(\"Enter string \")\n",
    "s1 = s.lower()\n",
    "stutters(s1)"
   ]
  },
  {
   "cell_type": "markdown",
   "metadata": {},
   "source": [
    "# Question 2.\n",
    "Create a function that takes an angle in radians and returns the corresponding angle in degrees rounded to one decimal place.\n",
    "Examples\n",
    "radians_to_degrees(1) ➞ 57.3\n",
    "\n",
    "radians_to_degrees(20) ➞ 1145.9\n",
    "\n",
    "radians_to_degrees(50) ➞ 2864.8\n",
    "\n"
   ]
  },
  {
   "cell_type": "code",
   "execution_count": 33,
   "metadata": {},
   "outputs": [
    {
     "name": "stdout",
     "output_type": "stream",
     "text": [
      "57.3\n"
     ]
    }
   ],
   "source": [
    "def radians(r):\n",
    "    pi = 3.14159\n",
    "    degree = r * (180/pi)\n",
    "    return degree\n",
    "\n",
    "r = 1\n",
    "\n",
    "result = radians(r)\n",
    "\n",
    "print(\"{:.1f}\".format(result))"
   ]
  },
  {
   "cell_type": "markdown",
   "metadata": {},
   "source": [
    "# Question 3. \n",
    "In this challenge, establish if a given integer num is a Curzon number. If 1 plus 2 elevated to num is exactly divisible by 1 plus 2 multiplied by num, then num is a Curzon number.\n",
    "Given a non-negative integer num, implement a function that returns True if num is a Curzon number, or False otherwise.\n",
    "Examples\n",
    "is_curzon(5) ➞ True\n",
    "#2 ** 5 + 1 = 33\n",
    "#2 * 5 + 1 = 11\n",
    "#33 is a multiple of 11\n",
    "\n",
    "is_curzon(10) ➞ False\n",
    "#2 ** 10 + 1 = 1025\n",
    "#2 * 10 + 1 = 21\n",
    "#1025 is not a multiple of 21\n",
    "\n",
    "is_curzon(14) ➞ True\n",
    "#2 ** 14 + 1 = 16385\n",
    "#2 * 14 + 1 = 29\n",
    "#16385 is a multiple of 29\n"
   ]
  },
  {
   "cell_type": "code",
   "execution_count": 40,
   "metadata": {},
   "outputs": [
    {
     "name": "stdout",
     "output_type": "stream",
     "text": [
      "Enter the number 6\n",
      "is_curzon(6)--> True\n",
      "2 ** 6 + 1 = 65\n",
      "2 * 6 + 1 = 13\n",
      "65 is a multiple of 13\n"
     ]
    }
   ],
   "source": [
    "def is_curzon(num):\n",
    "    s = pow(2,num) + 1\n",
    "    \n",
    "    \n",
    "    r = 2 * num + 1\n",
    "    if s%r == 0:\n",
    "        print(\"is_curzon({})--> True\".format(num))\n",
    "        print(\"2 ** {} + 1 = {}\".format(num, s))\n",
    "        print(\"2 * {} + 1 = {}\".format(num, r))\n",
    "        print(\"{} is a multiple of {}\".format(s, r))\n",
    "    else:\n",
    "        print(\"is_curzon({})--> False\".format(num))\n",
    "        print(\"2 ** {} + 1 = {}\".format(num, s))\n",
    "        print(\"2 * {} + 1 = {}\".format(num, r))\n",
    "        print(\"{} is NOT a multiple of {}\".format(s, r))\n",
    "        \n",
    "    \n",
    "    \n",
    "if __name__ == \"__main__\":\n",
    "    num = int(input(\"Enter the number \"))\n",
    "    is_curzon(num)"
   ]
  },
  {
   "cell_type": "markdown",
   "metadata": {},
   "source": [
    "# Question 4\n",
    "Given the side length x find the area of a hexagon.\n",
    " \n",
    "Examples\n",
    "area_of_hexagon(1) ➞ 2.6\n",
    "\n",
    "area_of_hexagon(2) ➞ 10.4\n",
    "\n",
    "area_of_hexagon(3) ➞ 23.4\n"
   ]
  },
  {
   "cell_type": "code",
   "execution_count": 4,
   "metadata": {},
   "outputs": [
    {
     "name": "stdout",
     "output_type": "stream",
     "text": [
      "Enter the side of Hexagon 3\n",
      "Area of Hexagon is 23.4\n"
     ]
    }
   ],
   "source": [
    "import math\n",
    "def areaOfhexagon(s):\n",
    "    result = ((3 * math.sqrt(3) * (s * s)) / 2)\n",
    "    print(\"Area of Hexagon is {:.1f}\".format(result))\n",
    "\n",
    "\n",
    "if __name__ == \"__main__\":\n",
    "    num = int(input(\"Enter the side of Hexagon \"))\n",
    "    \n",
    "    areaOfhexagon(num)\n"
   ]
  },
  {
   "cell_type": "markdown",
   "metadata": {},
   "source": [
    "# Question 5. \n",
    "Create a function that returns a base-2 (binary) representation of a base-10 (decimal) string number. To convert is simple: ((2) means base-2 and (10) means base-10) 010101001(2) = 1 + 8 + 32 + 128.\n",
    "Going from right to left, the value of the most right bit is 1, now from that every bit to the left will be x2 the value, value of an 8 bit binary numbers are (256, 128, 64, 32, 16, 8, 4, 2, 1).\n",
    "Examples\n",
    "binary(1) ➞ \"1\"\n",
    "#1*1 = 1\n",
    "\n",
    "binary(5) ➞ \"101\"\n",
    "#1*1 + 1*4 = 5\n",
    "\n",
    "binary(10) ➞ \"1010\"\n",
    "#1*2 + 1*8 = 10\n"
   ]
  },
  {
   "cell_type": "code",
   "execution_count": 20,
   "metadata": {},
   "outputs": [
    {
     "name": "stdout",
     "output_type": "stream",
     "text": [
      "Equivalent of 10 in base 2 is 1010\n"
     ]
    }
   ],
   "source": [
    "def reval(num):\n",
    "    if (num >= 0 and num <=9):\n",
    "        return chr(num + ord('0'))\n",
    "    else:\n",
    "        return chr(num - 10 + ord('A'))\n",
    "    \n",
    "def strev(str):\n",
    "    len = len(str)\n",
    "    for i in range(int(len / 2)):\n",
    "        temp = str[i]\n",
    "        str[i] = str[len - i - 1]\n",
    "        str[len - i - 1] = temp\n",
    "        \n",
    "def fromDeci(res, base, inputNum):\n",
    "    index = 0\n",
    "    while(inputNum>0):\n",
    "        res+=reval(inputNum % base)\n",
    "        inputNum = int(inputNum / base)\n",
    "        \n",
    "    res = res[::-1]\n",
    "    \n",
    "    return res\n",
    "inputNum = 10\n",
    "base = 2\n",
    "res = \"\"\n",
    "print(\"Equivalent of\", inputNum, \"in base\",base, \"is\", fromDeci(res, base, inputNum))\n",
    "\n",
    "\n",
    "        \n",
    "        "
   ]
  },
  {
   "cell_type": "code",
   "execution_count": null,
   "metadata": {},
   "outputs": [],
   "source": []
  }
 ],
 "metadata": {
  "kernelspec": {
   "display_name": "Python 3",
   "language": "python",
   "name": "python3"
  },
  "language_info": {
   "codemirror_mode": {
    "name": "ipython",
    "version": 3
   },
   "file_extension": ".py",
   "mimetype": "text/x-python",
   "name": "python",
   "nbconvert_exporter": "python",
   "pygments_lexer": "ipython3",
   "version": "3.7.4"
  }
 },
 "nbformat": 4,
 "nbformat_minor": 2
}
