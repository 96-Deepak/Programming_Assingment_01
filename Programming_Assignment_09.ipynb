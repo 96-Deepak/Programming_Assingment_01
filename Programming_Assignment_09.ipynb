{
 "cells": [
  {
   "cell_type": "markdown",
   "metadata": {},
   "source": [
    "# 1.\tWrite a Python program to check if the given number is a Disarium Number?"
   ]
  },
  {
   "cell_type": "code",
   "execution_count": 13,
   "metadata": {},
   "outputs": [
    {
     "name": "stdout",
     "output_type": "stream",
     "text": [
      "134 is not a disarium number\n"
     ]
    }
   ],
   "source": [
    "def calculateLength(n):    \n",
    "    length = 0;    \n",
    "    while(n != 0):    \n",
    "        length = length + 1;    \n",
    "        n = n//10;    \n",
    "    return length;    \n",
    "     \n",
    "num = 134;    \n",
    "rem = sum = 0;    \n",
    "len = calculateLength(num);    \n",
    "     \n",
    "n = num;    \n",
    "     \n",
    "while(num > 0):    \n",
    "    rem = num%10;    \n",
    "    sum = sum + int(rem**len);    \n",
    "    num = num//10;    \n",
    "    len = len - 1;    \n",
    "         \n",
    "if(sum == n):    \n",
    "    print(str(n) + \" is a disarium number\");    \n",
    "else:    \n",
    "    print(str(n) + \" is not a disarium number\");    "
   ]
  },
  {
   "cell_type": "markdown",
   "metadata": {},
   "source": [
    "# 2.\tWrite a Python program to print all disarium numbers between 1 to 100?"
   ]
  },
  {
   "cell_type": "code",
   "execution_count": 5,
   "metadata": {},
   "outputs": [
    {
     "name": "stdout",
     "output_type": "stream",
     "text": [
      "The disarium numbers between 1 and 100 are : \n",
      "1\n",
      "2\n",
      "3\n",
      "4\n",
      "5\n",
      "6\n",
      "7\n",
      "8\n",
      "9\n",
      "89\n"
     ]
    }
   ],
   "source": [
    "def length_calculation(my_val):\n",
    "   len_val = 0\n",
    "   while(my_val != 0):\n",
    "      len_val = len_val + 1\n",
    "      my_val = my_val//10\n",
    "   return len_val\n",
    "def digit_sum(my_num):\n",
    "   remaining = sum_val = 0\n",
    "   len_fun = length_calculation(my_num)\n",
    "   while(my_num > 0):\n",
    "      remaining = my_num%10\n",
    "      sum_val = sum_val + (remaining**len_fun)\n",
    "      my_num = my_num//10\n",
    "      len_fun = len_fun - 1\n",
    "   return sum_val\n",
    "ini_result = 0\n",
    "print(\"The disarium numbers between 1 and 100 are : \")\n",
    "for i in range(1, 101):\n",
    "   ini_result = digit_sum(i)\n",
    "   if(ini_result == i):\n",
    "      print(i)"
   ]
  },
  {
   "cell_type": "markdown",
   "metadata": {},
   "source": [
    "# 3.\tWrite a Python program to check if the given number is Happy Number?"
   ]
  },
  {
   "cell_type": "code",
   "execution_count": 10,
   "metadata": {},
   "outputs": [
    {
     "name": "stdout",
     "output_type": "stream",
     "text": [
      "Enter the Number: 15\n",
      "Number is NOT HAPPY...\n"
     ]
    }
   ],
   "source": [
    "def check_happy(num):\n",
    "    rem = sum_val = 0\n",
    "    while num>0:\n",
    "        rem = num % 10\n",
    "        sum_val = sum_val + (rem*rem)\n",
    "        num = num//10\n",
    "    return sum_val\n",
    "\n",
    "num = int(input(\"Enter the Number: \"))\n",
    "\n",
    "my_result = num\n",
    "while my_result != 1 and my_result !=4:\n",
    "    my_result = check_happy(my_result)\n",
    "\n",
    "if my_result == 1:\n",
    "    print(\"Number is happy\")\n",
    "elif my_result == 4:\n",
    "    print(\"Number is NOT HAPPY...\")\n",
    "    "
   ]
  },
  {
   "cell_type": "markdown",
   "metadata": {},
   "source": [
    "# 4.\tWrite a Python program to print all happy numbers between 1 and 100?"
   ]
  },
  {
   "cell_type": "code",
   "execution_count": 16,
   "metadata": {},
   "outputs": [
    {
     "name": "stdout",
     "output_type": "stream",
     "text": [
      "1 is a happy number\n",
      "7 is a happy number\n",
      "10 is a happy number\n",
      "13 is a happy number\n",
      "19 is a happy number\n",
      "23 is a happy number\n",
      "28 is a happy number\n",
      "31 is a happy number\n",
      "32 is a happy number\n",
      "44 is a happy number\n",
      "49 is a happy number\n",
      "68 is a happy number\n",
      "70 is a happy number\n",
      "79 is a happy number\n",
      "82 is a happy number\n",
      "86 is a happy number\n",
      "91 is a happy number\n",
      "94 is a happy number\n",
      "97 is a happy number\n",
      "100 is a happy number\n"
     ]
    }
   ],
   "source": [
    "def check_happy(num):\n",
    "    result = num\n",
    "    rem = sum_val = 0\n",
    "    while num>0:\n",
    "        rem = num%10\n",
    "        sum_val = sum_val + (rem*rem)\n",
    "        num = num // 10\n",
    "    return sum_val\n",
    "#     if sum_val == 1:\n",
    "#         print(\"{} is a happy number\".format(result))\n",
    "\n",
    "for i in range(1, 101):\n",
    "    result = i\n",
    "    while result != 1 and result != 4:\n",
    "       result = check_happy(result)\n",
    "    if result == 1:\n",
    "        print(\"{} is a happy number\".format(i))"
   ]
  },
  {
   "cell_type": "markdown",
   "metadata": {},
   "source": [
    "# 5.\tWrite a Python program to determine whether the given number is a Harshad Number?"
   ]
  },
  {
   "cell_type": "code",
   "execution_count": 23,
   "metadata": {},
   "outputs": [
    {
     "name": "stdout",
     "output_type": "stream",
     "text": [
      "Enter number to check Harshad 12\n",
      "the given nymber is Harshad \n"
     ]
    }
   ],
   "source": [
    "def checkh(num):\n",
    "    sum = 0\n",
    "    temp = num\n",
    "    while temp>0:\n",
    "        sum = sum + temp % 10\n",
    "        temp = temp // 10\n",
    "    return num % sum == 0\n",
    "\n",
    "x = int(input(\"Enter number to check Harshad \"))\n",
    "if (checkh(x)):\n",
    "    print(\"the given nymber is Harshad \")\n",
    "else:\n",
    "    print(\"The give number is NOT Harshad \")"
   ]
  },
  {
   "cell_type": "markdown",
   "metadata": {},
   "source": [
    "# 6.\tWrite a Python program to print all pronic numbers between 1 and 100?"
   ]
  },
  {
   "cell_type": "code",
   "execution_count": 24,
   "metadata": {},
   "outputs": [
    {
     "name": "stdout",
     "output_type": "stream",
     "text": [
      "2\n",
      "6\n",
      "12\n",
      "20\n",
      "30\n",
      "42\n",
      "56\n",
      "72\n",
      "90\n"
     ]
    }
   ],
   "source": [
    "def pronum(num):\n",
    "    flag = False\n",
    "    for j in range(1, num+1):\n",
    "        if(j*(j+1))==num:\n",
    "            flag = True\n",
    "            break\n",
    "    return flag\n",
    "\n",
    "for i in range(1,100):\n",
    "    if(pronum(i)):\n",
    "        print(i)"
   ]
  },
  {
   "cell_type": "code",
   "execution_count": null,
   "metadata": {},
   "outputs": [],
   "source": []
  }
 ],
 "metadata": {
  "kernelspec": {
   "display_name": "Python 3",
   "language": "python",
   "name": "python3"
  },
  "language_info": {
   "codemirror_mode": {
    "name": "ipython",
    "version": 3
   },
   "file_extension": ".py",
   "mimetype": "text/x-python",
   "name": "python",
   "nbconvert_exporter": "python",
   "pygments_lexer": "ipython3",
   "version": "3.7.4"
  }
 },
 "nbformat": 4,
 "nbformat_minor": 2
}
