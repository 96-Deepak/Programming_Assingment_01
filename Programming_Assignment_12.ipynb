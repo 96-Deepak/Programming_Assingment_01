{
 "cells": [
  {
   "cell_type": "markdown",
   "metadata": {},
   "source": [
    "# 1.\tWrite a Python program to Extract Unique values dictionary values?"
   ]
  },
  {
   "cell_type": "code",
   "execution_count": 11,
   "metadata": {},
   "outputs": [
    {
     "name": "stdout",
     "output_type": "stream",
     "text": [
      "The dictionary is : \n",
      "{'hi': [5, 3, 8, 0], 'there': [22, 51, 63, 77], 'how': [7, 0, 22], 'are': [12, 11, 45], 'you': [56, 31, 89, 90]}\n",
      "5\n",
      "3\n",
      "8\n",
      "0\n",
      "22\n",
      "51\n",
      "63\n",
      "77\n",
      "7\n",
      "0\n",
      "22\n",
      "12\n",
      "11\n",
      "45\n",
      "56\n",
      "31\n",
      "89\n",
      "90\n"
     ]
    }
   ],
   "source": [
    "my_dict = {'hi' : [5,3,8, 0],\n",
    "   'there' : [22, 51, 63, 77],\n",
    "   'how' : [7, 0, 22],\n",
    "   'are' : [12, 11, 45],\n",
    "   'you' : [56, 31, 89, 90]}\n",
    "\n",
    "print(\"The dictionary is : \")\n",
    "print(my_dict)\n",
    "\n",
    "un = []\n",
    "\n",
    "for i in my_dict.values():\n",
    "    for j in i:\n",
    "        un.append(j)\n",
    "for x in un:\n",
    "    print(x)\n",
    "# print(\"The unique values are : \")\n",
    "# print(my_result)"
   ]
  },
  {
   "cell_type": "markdown",
   "metadata": {},
   "source": [
    "# 2.\tWrite a Python program to find the sum of all items in a dictionary?"
   ]
  },
  {
   "cell_type": "code",
   "execution_count": 12,
   "metadata": {},
   "outputs": [
    {
     "name": "stdout",
     "output_type": "stream",
     "text": [
      "Sum of all item in dictionary  158\n"
     ]
    }
   ],
   "source": [
    "dict1 = {\n",
    "    'one':[1,2,3,4,5],\n",
    "    'two':[6,7,8,9],\n",
    "    'three':[11,23,24,55]\n",
    "}\n",
    "\n",
    "sum = 0\n",
    "\n",
    "for i in dict1.values():\n",
    "    for j in i:\n",
    "        sum = sum + j\n",
    "        \n",
    "print(\"Sum of all item in dictionary \", sum)"
   ]
  },
  {
   "cell_type": "markdown",
   "metadata": {},
   "source": [
    "# 3.\tWrite a Python program to Merging two Dictionaries?"
   ]
  },
  {
   "cell_type": "code",
   "execution_count": 12,
   "metadata": {},
   "outputs": [
    {
     "name": "stdout",
     "output_type": "stream",
     "text": [
      "None\n",
      "{'x': 1, 'y': 2, 'z': 3, 'p': 11, 'q': 12, 'r': 13}\n"
     ]
    }
   ],
   "source": [
    "dict1 = {'p':11, 'q':12, 'r':13}\n",
    "\n",
    "dict2 = {'x':1, 'y':2, 'z':3}\n",
    "\n",
    "def Merge(dict1, dict2):\n",
    "    return(dict2.update(dict1))\n",
    "\n",
    "print(Merge(dict1, dict2))\n",
    "\n",
    "print(dict2)"
   ]
  },
  {
   "cell_type": "markdown",
   "metadata": {},
   "source": [
    "# 4.\tWrite a Python program to convert key-values list to flat dictionary?"
   ]
  },
  {
   "cell_type": "code",
   "execution_count": 20,
   "metadata": {},
   "outputs": [
    {
     "name": "stdout",
     "output_type": "stream",
     "text": [
      "{1: 'Jan', 2: 'feb', 3: 'march'}\n"
     ]
    }
   ],
   "source": [
    "from itertools import product\n",
    "\n",
    "dict1 = {'month':[1,2,3], 'name':['Jan', 'feb', 'march']}\n",
    "\n",
    "res = dict(zip(dict1['month'], dict1['name']))\n",
    "\n",
    "print(res)\n",
    "\n"
   ]
  },
  {
   "cell_type": "markdown",
   "metadata": {},
   "source": [
    "# 5.\tWrite a Python program to insertion at the beginning in OrderedDict?"
   ]
  },
  {
   "cell_type": "code",
   "execution_count": 2,
   "metadata": {},
   "outputs": [
    {
     "name": "stdout",
     "output_type": "stream",
     "text": [
      "OrderedDict([('Harshu', '3'), ('Deepak', '1'), ('Durgesh', '2')])\n"
     ]
    }
   ],
   "source": [
    "from collections import OrderedDict\n",
    "\n",
    "my_dict = OrderedDict([('Deepak','1'), ('Durgesh','2')])\n",
    "\n",
    "my_dict.update({'Harshu':'3'})\n",
    "my_dict.move_to_end('Harshu', last=False)\n",
    "\n",
    "print(my_dict)"
   ]
  },
  {
   "cell_type": "markdown",
   "metadata": {},
   "source": [
    "# 6.\tWrite a Python program to check order of character in string using OrderedDict()?"
   ]
  },
  {
   "cell_type": "code",
   "execution_count": 3,
   "metadata": {},
   "outputs": [
    {
     "name": "stdout",
     "output_type": "stream",
     "text": [
      "true\n"
     ]
    }
   ],
   "source": [
    "from collections import OrderedDict\n",
    "\n",
    "def checkOrder(input, pattern):\n",
    "    dict = OrderedDict.fromkeys(input)\n",
    "    ptrlen = 0\n",
    "    for key, value in dict.items():\n",
    "        if(key == pattern[ptrlen]):\n",
    "            ptrlen = ptrlen+1\n",
    "        if (ptrlen == (len(pattern))):\n",
    "            return 'true'\n",
    "    return 'false'\n",
    "\n",
    "if __name__ == '__main__':\n",
    "    input = \"engineer rock\"\n",
    "    pattern = 'egr'\n",
    "    print(checkOrder(input, pattern))"
   ]
  },
  {
   "cell_type": "markdown",
   "metadata": {},
   "source": [
    "# 7.\tWrite a Python program to sort Python Dictionaries by Key or Value?"
   ]
  },
  {
   "cell_type": "code",
   "execution_count": 10,
   "metadata": {},
   "outputs": [
    {
     "name": "stdout",
     "output_type": "stream",
     "text": [
      "[12, 17, 21, 23]\n"
     ]
    }
   ],
   "source": [
    "dict1 = {\n",
    "    'a' : 12,\n",
    "    'b' : 23,\n",
    "    'c' : 17,\n",
    "    'd' : 21\n",
    "}\n",
    "\n",
    "li = []\n",
    "for i in dict1.values():\n",
    "    li.append(i)\n",
    "\n",
    "li.sort()\n",
    "\n",
    "print(li)"
   ]
  },
  {
   "cell_type": "code",
   "execution_count": null,
   "metadata": {},
   "outputs": [],
   "source": []
  }
 ],
 "metadata": {
  "kernelspec": {
   "display_name": "Python 3",
   "language": "python",
   "name": "python3"
  },
  "language_info": {
   "codemirror_mode": {
    "name": "ipython",
    "version": 3
   },
   "file_extension": ".py",
   "mimetype": "text/x-python",
   "name": "python",
   "nbconvert_exporter": "python",
   "pygments_lexer": "ipython3",
   "version": "3.7.4"
  }
 },
 "nbformat": 4,
 "nbformat_minor": 2
}
