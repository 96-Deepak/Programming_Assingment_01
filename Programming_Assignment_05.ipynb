{
 "cells": [
  {
   "cell_type": "markdown",
   "metadata": {},
   "source": [
    "# 1.\tWrite a Python Program to Find LCM?"
   ]
  },
  {
   "cell_type": "code",
   "execution_count": 1,
   "metadata": {},
   "outputs": [],
   "source": [
    "def compute_lcm(x, y):\n",
    "    if x>y:\n",
    "        grater = x\n",
    "    else:\n",
    "        grater = y\n",
    "        \n",
    "    while True:\n",
    "        if grater % x == 0 and grater % y ==0 :\n",
    "            lcm = grater\n",
    "            break\n",
    "        grater += 1\n",
    "    return lcm\n",
    "num1 = 54\n",
    "num2 = 24"
   ]
  },
  {
   "cell_type": "code",
   "execution_count": 2,
   "metadata": {},
   "outputs": [
    {
     "name": "stdout",
     "output_type": "stream",
     "text": [
      "the LCM is  216\n"
     ]
    }
   ],
   "source": [
    "print(\"the LCM is \", compute_lcm(num1, num2))"
   ]
  },
  {
   "cell_type": "markdown",
   "metadata": {},
   "source": [
    "# 2.\tWrite a Python Program to Find HCF?"
   ]
  },
  {
   "cell_type": "code",
   "execution_count": 5,
   "metadata": {},
   "outputs": [
    {
     "name": "stdout",
     "output_type": "stream",
     "text": [
      "HCF is  1\n"
     ]
    }
   ],
   "source": [
    "def hcf(x, y):\n",
    "    if x > y:\n",
    "        s = y\n",
    "    else:\n",
    "        s = x\n",
    "    for i in range(1, s+1):\n",
    "        if((x%i==0) and (y%i==0)):\n",
    "            HCF = i\n",
    "    return HCF\n",
    "num1 = 35\n",
    "num2 = 78\n",
    "\n",
    "print(\"HCF is \",hcf(num1, num2))"
   ]
  },
  {
   "cell_type": "markdown",
   "metadata": {},
   "source": [
    "# 3.\tWrite a Python Program to Convert Decimal to Binary, Octal and Hexadecimal?"
   ]
  },
  {
   "cell_type": "code",
   "execution_count": 11,
   "metadata": {},
   "outputs": [
    {
     "name": "stdout",
     "output_type": "stream",
     "text": [
      "enter the decimal number234\n",
      "the deciamal is  234\n",
      "Binary is  0b11101010\n",
      "Octal is  0o352\n",
      "Hexadecimal is  0xea\n"
     ]
    }
   ],
   "source": [
    "dec = int(input(\"enter the decimal number \"))\n",
    "\n",
    "print(\"the deciamal is \", dec)\n",
    "print(\"Binary is \", bin(dec))\n",
    "print(\"Octal is \", oct(dec))\n",
    "print(\"Hexadecimal is \", hex(dec))"
   ]
  },
  {
   "cell_type": "markdown",
   "metadata": {},
   "source": [
    "# 4.\tWrite a Python Program To Find ASCII value of a character?"
   ]
  },
  {
   "cell_type": "code",
   "execution_count": 15,
   "metadata": {},
   "outputs": [
    {
     "name": "stdout",
     "output_type": "stream",
     "text": [
      "enter the character H\n",
      "ASCII value is  72\n"
     ]
    }
   ],
   "source": [
    "s = input(\"enter the character \")\n",
    "\n",
    "print(\"ASCII value is \", ord(s))"
   ]
  },
  {
   "cell_type": "markdown",
   "metadata": {},
   "source": [
    "# 5.\tWrite a Python Program to Make a Simple Calculator with 4 basic mathematical operations?"
   ]
  },
  {
   "cell_type": "code",
   "execution_count": 17,
   "metadata": {},
   "outputs": [
    {
     "name": "stdout",
     "output_type": "stream",
     "text": [
      "enter number one :- 10\n",
      "enter number two :- 20\n",
      "Addition is  30.0\n",
      "Substration is  -10.0\n",
      "Multiplication is  200.0\n",
      "Division is  0.5\n"
     ]
    }
   ],
   "source": [
    "num1 = float(input(\"enter number one :- \"))\n",
    "num2 = float(input(\"enter number two :- \"))\n",
    "\n",
    "def add(x, y):\n",
    "    print(\"Addition is \", x+y)\n",
    "\n",
    "def sub(x, y):\n",
    "    print(\"Substration is \", x-y)\n",
    "\n",
    "def multi(x, y):\n",
    "    print(\"Multiplication is \", x*y)\n",
    "\n",
    "def div(x, y):\n",
    "    print(\"Division is \", x/y)\n",
    "\n",
    "add(num1, num2)\n",
    "sub(num1, num2)\n",
    "multi(num1, num2)\n",
    "div(num1, num2)"
   ]
  },
  {
   "cell_type": "code",
   "execution_count": null,
   "metadata": {},
   "outputs": [],
   "source": []
  }
 ],
 "metadata": {
  "kernelspec": {
   "display_name": "Python 3",
   "language": "python",
   "name": "python3"
  },
  "language_info": {
   "codemirror_mode": {
    "name": "ipython",
    "version": 3
   },
   "file_extension": ".py",
   "mimetype": "text/x-python",
   "name": "python",
   "nbconvert_exporter": "python",
   "pygments_lexer": "ipython3",
   "version": "3.7.4"
  }
 },
 "nbformat": 4,
 "nbformat_minor": 2
}
